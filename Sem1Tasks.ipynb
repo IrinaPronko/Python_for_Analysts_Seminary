{
 "cells": [
  {
   "attachments": {},
   "cell_type": "markdown",
   "metadata": {},
   "source": [
    "## Задача 1\n",
    "Оформляйте ноутбук, используя эти советы:\n",
    "## Номер задачи - заголовок 2\n",
    "### Номер подзадачи - заголовок 3\n",
    "Предоставленные наборы данных оформляйте, как код\n",
    "Рекомендации для преподавателей по оценке задания:\n",
    "Смотреть, чтобы студент красиво оформлял ноутбук, использовал ячейки с текстом, указывал номера заданий"
   ]
  },
  {
   "attachments": {},
   "cell_type": "markdown",
   "metadata": {},
   "source": [
    "## Задача 2\n",
    "**На складе лежат разные фрукты в разном количестве. Нужно написать функцию, которая на вход принимает любое количество названий фруктов и их количество, а возвращает общее количество фруктов на складе**"
   ]
  },
  {
   "cell_type": "code",
   "execution_count": 1,
   "metadata": {},
   "outputs": [],
   "source": [
    "from collections import Counter"
   ]
  },
  {
   "cell_type": "code",
   "execution_count": 2,
   "metadata": {},
   "outputs": [],
   "source": [
    "def Arrival_fruits(rest, **fruits):\n",
    "    \n",
    "    dicts = [rest, fruits]\n",
    "    rest = dict(sum(map(Counter, dicts), Counter()))\n",
    "    \n",
    "    fruits_total = sum(rest.values())\n",
    "    fruits_name = rest.keys()\n",
    "\n",
    "    return rest, fruits_name, fruits_total"
   ]
  },
  {
   "cell_type": "code",
   "execution_count": 3,
   "metadata": {},
   "outputs": [
    {
     "name": "stdout",
     "output_type": "stream",
     "text": [
      "Всего на складе фруктов ('Яблоки', 'Помело', 'Апельсины', 'Ананасы', 'Груши', 'Мандарины', 'Бананы', 'Кокос', 'Слива') = 6880 кг.\n"
     ]
    }
   ],
   "source": [
    "# Начальные остатки на складе\n",
    "rest_STORE = {'Яблоки': 1200,\n",
    "              'Помело': 50,\n",
    "              'Апельсины': 900,\n",
    "              'Ананасы': 600,\n",
    "              'Груши': 1500,\n",
    "              'Мандарины': 280,\n",
    "              'Бананы': 800}\n",
    "\n",
    "# Поступило фруктов\n",
    "fruits_dic = {'Яблоки': 300,\n",
    "             'Кокос': 100,\n",
    "             'Апельсины': 450,\n",
    "             'Груши': 250,\n",
    "             'Мандарины': 280,\n",
    "             'Слива': 170}\n",
    "\n",
    "rest_STORE, names, total = Arrival_fruits(rest_STORE, **fruits_dic)\n",
    "\n",
    "print(f'Всего на складе фруктов {tuple(names)} = {total} кг.')"
   ]
  },
  {
   "cell_type": "markdown",
   "metadata": {},
   "source": [
    "Ответ.  \n",
    "Всего на складе 6880 кг фруктов."
   ]
  },
  {
   "attachments": {},
   "cell_type": "markdown",
   "metadata": {},
   "source": [
    "## Задача 3\n",
    "**Дан список с затратами на рекламу. Но в данных есть ошибки, некоторые затраты имеют отрицательную величину. Удалите такие значения из списка и посчитайте суммарные затраты [100, 125, -90, 345, 655, -1, 0, 200].**  \n",
    "**Используйте list comprehensions**"
   ]
  },
  {
   "cell_type": "code",
   "execution_count": 4,
   "metadata": {},
   "outputs": [
    {
     "name": "stdout",
     "output_type": "stream",
     "text": [
      "[100, 125, 0, 345, 655, 0, 0, 200]\n",
      "Сумарные затраты на рекламу = 1425 руб.\n"
     ]
    }
   ],
   "source": [
    "def total_costs(c_price:list) -> int:\n",
    "    temp = [i if i > 0 else 0 for i in costs_price]\n",
    "    print(temp)\n",
    "    return sum(temp)\n",
    "\n",
    "costs_price = [100, 125, -90, 345, 655, -1, 0, 200]\n",
    "\n",
    "print(f'Сумарные затраты на рекламу = {total_costs(costs_price)} руб.')"
   ]
  },
  {
   "cell_type": "markdown",
   "metadata": {},
   "source": [
    "Ответ.  \n",
    "Сумарные затраты на рекламу 1425 руб."
   ]
  },
  {
   "attachments": {},
   "cell_type": "markdown",
   "metadata": {},
   "source": [
    "## Задача 4\n",
    "**Даны два списка:** \n",
    "1) _Дата покупки_  \n",
    "['2021-09-14', '2021-12-15', '2021-09-08', '2021-12-05', '2021-10-09', '2021-09-30', '2021-12-22', '2021-11-29', '2021-12-24', '2021-11-26', '2021-10-27', '2021-12-18', '2021-11-09', '2021-11-23', '2021-09-27', '2021-10-02', '2021-12-27', '2021-09-20', '2021-12-13', '2021-11-01', '2021-11-09', '2021-12-06', '2021-12-08', '2021-10-09', '2021-10-31', '2021-09-30', '2021-11-09', '2021-12-13', '2021-10-26', '2021-12-09']\n",
    "2) _Суммы покупок по датам_  \n",
    "[1270, 8413, 9028, 3703, 5739, 4095, 295, 4944, 5723, 3701, 4471, 651, 7037, 4274, 6275, 4988, 6930, 2971, 6592, 2004, 2822, 519, 3406, 2732, 5015, 2008, 316, 6333, 5700, 2887]"
   ]
  },
  {
   "cell_type": "code",
   "execution_count": 5,
   "metadata": {},
   "outputs": [],
   "source": [
    "import datetime"
   ]
  },
  {
   "cell_type": "code",
   "execution_count": 6,
   "metadata": {},
   "outputs": [],
   "source": [
    "date = ['2021-09-14', '2021-12-15', '2021-09-08', '2021-12-05', '2021-10-09', '2021-09-30', '2021-12-22', '2021-11-29', \n",
    "        '2021-12-24', '2021-11-26', '2021-10-27', '2021-12-18', '2021-11-09', '2021-11-23', '2021-09-27', '2021-10-02', \n",
    "        '2021-12-27', '2021-09-20', '2021-12-13', '2021-11-01', '2021-11-09', '2021-12-06', '2021-12-08', '2021-10-09', \n",
    "        '2021-10-31', '2021-09-30', '2021-11-09', '2021-12-13', '2021-10-26', '2021-12-09']\n",
    "revenue = [1270, 8413, 9028, 3703, 5739, 4095, 295, 4944, 5723, 3701, 4471, 651, 7037, 4274, 6275, 4988, 6930, 2971, \n",
    "           6592, 2004, 2822, 519, 3406, 2732, 5015, 2008, 316, 6333, 5700, 2887]"
   ]
  },
  {
   "attachments": {},
   "cell_type": "markdown",
   "metadata": {},
   "source": [
    "### 4.1 \n",
    "**Найдите, какая выручка у компании в ноябре**\n",
    "*(Используйте list comprehensions)*"
   ]
  },
  {
   "cell_type": "code",
   "execution_count": 10,
   "metadata": {},
   "outputs": [
    {
     "name": "stdout",
     "output_type": "stream",
     "text": [
      "Выручка компании в ноябре составила 25098 руб.\n"
     ]
    }
   ],
   "source": [
    "month = '11'  \n",
    "revenue_november = [revenue[i] for i in range(len(date)) if date[i][5:7] == month] \n",
    "print(f'Выручка компании в ноябре составила {sum(revenue_november)} руб.')"
   ]
  },
  {
   "attachments": {},
   "cell_type": "markdown",
   "metadata": {},
   "source": [
    "### 4.2 \n",
    "**Найдите выручку компании в зависимости от месяца**  \n",
    "_Для этого напишите функцию, которая на вход принимает список с датами и список с выручкой, а на выходе словарь, где ключи - это месяцы, а значения - это выручка._  \n",
    "_Используйте аннотирование типов._"
   ]
  },
  {
   "cell_type": "code",
   "execution_count": 11,
   "metadata": {},
   "outputs": [],
   "source": [
    "def get_revenue_month(date: list[str], revenue: list[int]) -> dict: # 4.2\n",
    "    month = [('01','январь'), ('02','февраль'), ('03','март'), ('04','апрель'), ('05','май'),('06','июнь'),\n",
    "             ('07','июль'),('08','август'),('09','сентябрь'), ('10','октябрь'),('11','ноябрь'), ('12','декабрь')]\n",
    "    for i in range(len(month)):\n",
    "        for j in range(len(date)):\n",
    "            if month[i][0] == date[j][5:7]:\n",
    "                date[j] = month[i][1]\n",
    "    revenue_dict = dict()\n",
    "    for i, value in enumerate(revenue):\n",
    "        revenue_dict[date[i]] = revenue_dict.get(date[i], 0) + value\n",
    "    return revenue_dict"
   ]
  },
  {
   "cell_type": "code",
   "execution_count": 12,
   "metadata": {},
   "outputs": [
    {
     "name": "stdout",
     "output_type": "stream",
     "text": [
      "Выручка компании по месяцам: {'сентябрь': 25647, 'декабрь': 45452, 'октябрь': 28645, 'ноябрь': 25098}\n"
     ]
    }
   ],
   "source": [
    "print(f'Выручка компании по месяцам: {get_revenue_month(date, revenue)}')"
   ]
  },
  {
   "cell_type": "markdown",
   "metadata": {},
   "source": [
    "Ответ.  \n",
    "Выручка компании в ноябре составила 25098 руб.  \n",
    "Выручка компании по месяцам: \n",
    "<table align=\"center\">\n",
    "  <tr align=\"center\">\n",
    "    <td>Месяц</td>\n",
    "    <td>Выручка, руб.</td>\n",
    "  </tr>\n",
    "  <tr align=\"center\">\n",
    "    <td>Сентябрь</td>\n",
    "    <td>25647</td>\n",
    "  </tr>\n",
    "  <tr align=\"center\">\n",
    "    <td>Октябрь</td>\n",
    "    <td>28645</td>\n",
    "  </tr>\n",
    "  <tr align=\"center\">\n",
    "    <td>Ноябрь</td>\n",
    "    <td>25098</td>\n",
    "  </tr>\n",
    "  <tr align=\"center\">\n",
    "    <td>Декабрь</td>\n",
    "    <td>45452</td>\n",
    "  </tr>\n",
    "</table>\n",
    "\n"
   ]
  }
 ],
 "metadata": {
  "kernelspec": {
   "display_name": "Python 3.11.2 64-bit",
   "language": "python",
   "name": "python3"
  },
  "language_info": {
   "codemirror_mode": {
    "name": "ipython",
    "version": 3
   },
   "file_extension": ".py",
   "mimetype": "text/x-python",
   "name": "python",
   "nbconvert_exporter": "python",
   "pygments_lexer": "ipython3",
   "version": "3.11.2"
  },
  "orig_nbformat": 4,
  "vscode": {
   "interpreter": {
    "hash": "c6bda570d439cef0b73331d70d74997e8c54be07738a0bdb7ee077605f256bd9"
   }
  }
 },
 "nbformat": 4,
 "nbformat_minor": 2
}
